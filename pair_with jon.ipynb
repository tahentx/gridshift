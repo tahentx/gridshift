{
 "cells": [
  {
   "cell_type": "code",
   "execution_count": 2,
   "metadata": {
    "ExecuteTime": {
     "end_time": "2020-04-08T16:17:25.931016Z",
     "start_time": "2020-04-08T16:17:23.226953Z"
    }
   },
   "outputs": [],
   "source": [
    "# import various packages\n",
    "import os\n",
    "import scipy\n",
    "import pandas as pd\n",
    "import numpy as np\n",
    "import seaborn as sns\n",
    "import matplotlib.pyplot as plt\n",
    "plt.style.use('ggplot')\n",
    "%matplotlib inline"
   ]
  },
  {
   "cell_type": "code",
   "execution_count": 5,
   "metadata": {
    "ExecuteTime": {
     "end_time": "2020-04-08T16:23:37.980825Z",
     "start_time": "2020-04-08T16:23:37.971215Z"
    }
   },
   "outputs": [],
   "source": [
    "vec = np.array([2,7,1,5,10])"
   ]
  },
  {
   "cell_type": "code",
   "execution_count": 7,
   "metadata": {
    "ExecuteTime": {
     "end_time": "2020-04-08T16:38:01.578846Z",
     "start_time": "2020-04-08T16:38:01.566532Z"
    }
   },
   "outputs": [],
   "source": [
    "mat = np.array([\n",
    "    [2,0,0,0,0],\n",
    "    [0,7,0,0,0],\n",
    "    [0,0,1,0,0],\n",
    "    [0,0,0,5,0],\n",
    "    [0,0,0,0,10],\n",
    "])\n"
   ]
  },
  {
   "cell_type": "code",
   "execution_count": 9,
   "metadata": {
    "ExecuteTime": {
     "end_time": "2020-04-08T16:43:51.317975Z",
     "start_time": "2020-04-08T16:43:51.295622Z"
    }
   },
   "outputs": [
    {
     "data": {
      "text/plain": [
       "array([[ 0.5       ,  0.        ,  0.        ,  0.        ,  0.        ],\n",
       "       [ 0.        ,  0.14285714,  0.        ,  0.        ,  0.        ],\n",
       "       [ 0.        ,  0.        ,  1.        ,  0.        ,  0.        ],\n",
       "       [-0.        , -0.        , -0.        ,  0.2       , -0.        ],\n",
       "       [ 0.        ,  0.        ,  0.        ,  0.        ,  0.1       ]])"
      ]
     },
     "execution_count": 9,
     "metadata": {},
     "output_type": "execute_result"
    }
   ],
   "source": [
    "mt = np.linalg.inv(mat)\n",
    "mt"
   ]
  },
  {
   "cell_type": "code",
   "execution_count": null,
   "metadata": {},
   "outputs": [],
   "source": [
    "def tester(x):\n",
    "    try:\n",
    "        print(x)\n",
    "    except:\n",
    "        print(\"An exception occured\")"
   ]
  }
 ],
 "metadata": {
  "kernelspec": {
   "display_name": "Python 3",
   "language": "python",
   "name": "python3"
  },
  "language_info": {
   "codemirror_mode": {
    "name": "ipython",
    "version": 3
   },
   "file_extension": ".py",
   "mimetype": "text/x-python",
   "name": "python",
   "nbconvert_exporter": "python",
   "pygments_lexer": "ipython3",
   "version": "3.7.7"
  }
 },
 "nbformat": 4,
 "nbformat_minor": 4
}
