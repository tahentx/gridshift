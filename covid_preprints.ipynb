{
 "cells": [
  {
   "cell_type": "code",
   "execution_count": 1,
   "metadata": {
    "ExecuteTime": {
     "end_time": "2020-04-29T14:11:45.074081Z",
     "start_time": "2020-04-29T14:11:42.562699Z"
    }
   },
   "outputs": [],
   "source": [
    "# import various packages\n",
    "import os\n",
    "import scipy\n",
    "import pandas as pd\n",
    "import numpy as np\n",
    "import seaborn as sns\n",
    "import matplotlib.pyplot as plt\n",
    "plt.style.use('ggplot')\n",
    "%matplotlib inline"
   ]
  },
  {
   "cell_type": "code",
   "execution_count": 2,
   "metadata": {
    "ExecuteTime": {
     "end_time": "2020-04-29T14:12:19.118841Z",
     "start_time": "2020-04-29T14:12:17.765404Z"
    }
   },
   "outputs": [],
   "source": [
    "df = pd.read_csv('https://raw.githubusercontent.com/nicholasmfraser/covid19_preprints/master/data/covid19_preprints.csv')"
   ]
  },
  {
   "cell_type": "code",
   "execution_count": 3,
   "metadata": {
    "ExecuteTime": {
     "end_time": "2020-04-29T14:12:22.121688Z",
     "start_time": "2020-04-29T14:12:22.106611Z"
    }
   },
   "outputs": [
    {
     "data": {
      "text/html": [
       "<div>\n",
       "<style scoped>\n",
       "    .dataframe tbody tr th:only-of-type {\n",
       "        vertical-align: middle;\n",
       "    }\n",
       "\n",
       "    .dataframe tbody tr th {\n",
       "        vertical-align: top;\n",
       "    }\n",
       "\n",
       "    .dataframe thead th {\n",
       "        text-align: right;\n",
       "    }\n",
       "</style>\n",
       "<table border=\"1\" class=\"dataframe\">\n",
       "  <thead>\n",
       "    <tr style=\"text-align: right;\">\n",
       "      <th></th>\n",
       "      <th>source</th>\n",
       "      <th>doi</th>\n",
       "      <th>arxiv_id</th>\n",
       "      <th>posted_date</th>\n",
       "      <th>title</th>\n",
       "      <th>abstract</th>\n",
       "    </tr>\n",
       "  </thead>\n",
       "  <tbody>\n",
       "    <tr>\n",
       "      <th>0</th>\n",
       "      <td>AfricArXiv (OSF)</td>\n",
       "      <td>10.31730/osf.io/e7bk4</td>\n",
       "      <td>NaN</td>\n",
       "      <td>2020-04-02</td>\n",
       "      <td>ACE-2 in the highlight of COVID-19, A proposed...</td>\n",
       "      <td>&lt;p&gt;COVID-19 has become an immense concern to t...</td>\n",
       "    </tr>\n",
       "    <tr>\n",
       "      <th>1</th>\n",
       "      <td>AfricArXiv (OSF)</td>\n",
       "      <td>10.31730/osf.io/sy54p</td>\n",
       "      <td>NaN</td>\n",
       "      <td>2020-03-10</td>\n",
       "      <td>THE CAUSE OF PANIC AT THE OUTBREAK OF COVID-19...</td>\n",
       "      <td>&lt;p&gt;Lack of proper messaging at an outbreak of ...</td>\n",
       "    </tr>\n",
       "    <tr>\n",
       "      <th>2</th>\n",
       "      <td>bioRxiv</td>\n",
       "      <td>10.1101/2020.04.05.026187</td>\n",
       "      <td>NaN</td>\n",
       "      <td>2020-04-05</td>\n",
       "      <td>“Amantadine disrupts lysosomal gene expression...</td>\n",
       "      <td>&lt;jats:title&gt;Abstract&lt;/jats:title&gt;&lt;jats:p&gt;SARS-...</td>\n",
       "    </tr>\n",
       "    <tr>\n",
       "      <th>3</th>\n",
       "      <td>bioRxiv</td>\n",
       "      <td>10.1101/2020.04.20.050088</td>\n",
       "      <td>NaN</td>\n",
       "      <td>2020-04-20</td>\n",
       "      <td>“Identification and enrichment of SECReTE cis-...</td>\n",
       "      <td>&lt;jats:title&gt;Abstract&lt;/jats:title&gt;&lt;jats:p&gt;&lt;jats...</td>\n",
       "    </tr>\n",
       "    <tr>\n",
       "      <th>4</th>\n",
       "      <td>bioRxiv</td>\n",
       "      <td>10.1101/2020.01.24.919159</td>\n",
       "      <td>NaN</td>\n",
       "      <td>2020-01-25</td>\n",
       "      <td>2019-20 Wuhan coronavirus outbreak: Intense su...</td>\n",
       "      <td>&lt;jats:title&gt;ABSTRACT&lt;/jats:title&gt;&lt;jats:p&gt;The o...</td>\n",
       "    </tr>\n",
       "  </tbody>\n",
       "</table>\n",
       "</div>"
      ],
      "text/plain": [
       "             source                        doi arxiv_id posted_date  \\\n",
       "0  AfricArXiv (OSF)      10.31730/osf.io/e7bk4      NaN  2020-04-02   \n",
       "1  AfricArXiv (OSF)      10.31730/osf.io/sy54p      NaN  2020-03-10   \n",
       "2           bioRxiv  10.1101/2020.04.05.026187      NaN  2020-04-05   \n",
       "3           bioRxiv  10.1101/2020.04.20.050088      NaN  2020-04-20   \n",
       "4           bioRxiv  10.1101/2020.01.24.919159      NaN  2020-01-25   \n",
       "\n",
       "                                               title  \\\n",
       "0  ACE-2 in the highlight of COVID-19, A proposed...   \n",
       "1  THE CAUSE OF PANIC AT THE OUTBREAK OF COVID-19...   \n",
       "2  “Amantadine disrupts lysosomal gene expression...   \n",
       "3  “Identification and enrichment of SECReTE cis-...   \n",
       "4  2019-20 Wuhan coronavirus outbreak: Intense su...   \n",
       "\n",
       "                                            abstract  \n",
       "0  <p>COVID-19 has become an immense concern to t...  \n",
       "1  <p>Lack of proper messaging at an outbreak of ...  \n",
       "2  <jats:title>Abstract</jats:title><jats:p>SARS-...  \n",
       "3  <jats:title>Abstract</jats:title><jats:p><jats...  \n",
       "4  <jats:title>ABSTRACT</jats:title><jats:p>The o...  "
      ]
     },
     "execution_count": 3,
     "metadata": {},
     "output_type": "execute_result"
    }
   ],
   "source": [
    "df.head()"
   ]
  },
  {
   "cell_type": "code",
   "execution_count": 6,
   "metadata": {
    "ExecuteTime": {
     "end_time": "2020-04-29T14:13:27.819602Z",
     "start_time": "2020-04-29T14:13:27.813230Z"
    }
   },
   "outputs": [
    {
     "data": {
      "text/plain": [
       "'<p>COVID-19 has become an immense concern to the world since the outbreak of the novel coronavirus (recently named the SARS-CoV-2) in Hubei, China. Local Chinese news agencies traced back the first confirmed COVID-19 case to Wuhan on 17th of November 2019. This outbreak has later been declared a global pandemic by the WHO since its unexpected spread to several countries including Japan, Iran, South Korea and Italy, leading to respiratory failure, and subsequent death to thousands of victims around the world . [1] Zhou et al., pointed to Angiotensin-converting enzyme-2 (ACE-2) as the potential functional receptor for SARS- CoV-2 which has been confirmed after by the analysis of the receptor binding motif. [2- 5] ACE-2 was shown to be found in various tissues including the lungs, the brain, the intestines, the liver and the heart, where it is supposed to have beneficial effects to these tissues. [6] This paper aims at addressing the protective roles of ACE-2 in the lungs, based on previous literature and studies on other viruses that also use ACE-2 as a target for cellular entry, and we  hypothesized that COVID-19 pathology may result from viral Mediated down-regulation of ACE-2. In addition, we provided insights on the potential correlation between COVID-19 severity and gender or smoking.</p>'"
      ]
     },
     "execution_count": 6,
     "metadata": {},
     "output_type": "execute_result"
    }
   ],
   "source": [
    "df.iloc[0,-1]"
   ]
  },
  {
   "cell_type": "code",
   "execution_count": 7,
   "metadata": {
    "ExecuteTime": {
     "end_time": "2020-04-29T14:19:21.482317Z",
     "start_time": "2020-04-29T14:19:21.458856Z"
    }
   },
   "outputs": [],
   "source": [
    "df['false_analysis'] = df['abstract'].str.contains('false',case=True,regex=True)"
   ]
  },
  {
   "cell_type": "code",
   "execution_count": null,
   "metadata": {},
   "outputs": [],
   "source": [
    "df['false_analysis']"
   ]
  }
 ],
 "metadata": {
  "kernelspec": {
   "display_name": "Python 3",
   "language": "python",
   "name": "python3"
  },
  "language_info": {
   "codemirror_mode": {
    "name": "ipython",
    "version": 3
   },
   "file_extension": ".py",
   "mimetype": "text/x-python",
   "name": "python",
   "nbconvert_exporter": "python",
   "pygments_lexer": "ipython3",
   "version": "3.7.7"
  }
 },
 "nbformat": 4,
 "nbformat_minor": 4
}
