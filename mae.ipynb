{
 "cells": [
  {
   "cell_type": "code",
   "execution_count": 18,
   "metadata": {
    "ExecuteTime": {
     "end_time": "2020-04-13T22:21:58.592348Z",
     "start_time": "2020-04-13T22:21:57.465486Z"
    }
   },
   "outputs": [],
   "source": [
    "import pickle\n",
    "import os\n",
    "import scipy\n",
    "import pandas as pd\n",
    "import numpy as np\n",
    "import seaborn as sns\n",
    "import matplotlib.pyplot as plt\n",
    "import statsmodels.api as sm\n",
    "plt.style.use('ggplot')\n",
    "%matplotlib inline"
   ]
  },
  {
   "cell_type": "code",
   "execution_count": 19,
   "metadata": {
    "ExecuteTime": {
     "end_time": "2020-04-13T22:21:58.608077Z",
     "start_time": "2020-04-13T22:21:58.594912Z"
    }
   },
   "outputs": [],
   "source": [
    "with open('hardware.pickle', 'rb') as read_file:\n",
    "     df = pickle.load(read_file)"
   ]
  },
  {
   "cell_type": "code",
   "execution_count": 9,
   "metadata": {
    "ExecuteTime": {
     "end_time": "2020-04-13T22:02:48.608144Z",
     "start_time": "2020-04-13T22:02:48.583467Z"
    }
   },
   "outputs": [
    {
     "data": {
      "text/html": [
       "<div>\n",
       "<style scoped>\n",
       "    .dataframe tbody tr th:only-of-type {\n",
       "        vertical-align: middle;\n",
       "    }\n",
       "\n",
       "    .dataframe tbody tr th {\n",
       "        vertical-align: top;\n",
       "    }\n",
       "\n",
       "    .dataframe thead th {\n",
       "        text-align: right;\n",
       "    }\n",
       "</style>\n",
       "<table border=\"1\" class=\"dataframe\">\n",
       "  <thead>\n",
       "    <tr style=\"text-align: right;\">\n",
       "      <th></th>\n",
       "      <th>System</th>\n",
       "      <th>SKU</th>\n",
       "      <th>Array Size</th>\n",
       "      <th>Monthly Output</th>\n",
       "      <th>Modules</th>\n",
       "      <th>Inverter</th>\n",
       "      <th>Price</th>\n",
       "      <th>MOD OEM</th>\n",
       "      <th>INV OEM</th>\n",
       "      <th>Module Qty</th>\n",
       "    </tr>\n",
       "  </thead>\n",
       "  <tbody>\n",
       "    <tr>\n",
       "      <th>0</th>\n",
       "      <td>1.8 kW Grid Tied Solar System with Enphase IQ7...</td>\n",
       "      <td>1895201</td>\n",
       "      <td>1</td>\n",
       "      <td>270.0</td>\n",
       "      <td>6 Heliene 300 Black Mono Panels</td>\n",
       "      <td>6 Enphase IQ7+ Micro Inverters</td>\n",
       "      <td>3645.95</td>\n",
       "      <td>heliene</td>\n",
       "      <td>enphase</td>\n",
       "      <td>6</td>\n",
       "    </tr>\n",
       "    <tr>\n",
       "      <th>1</th>\n",
       "      <td>2.07 kW Grid Tied Solar System with Enphase IQ...</td>\n",
       "      <td>1895203</td>\n",
       "      <td>2</td>\n",
       "      <td>310.5</td>\n",
       "      <td>6 Astronergy Solar CHSM6612P/HV-345 Silver Pol...</td>\n",
       "      <td>6 Enphase IQ7+ Micro Inverters</td>\n",
       "      <td>3664.00</td>\n",
       "      <td>astronergy-solar</td>\n",
       "      <td>enphase</td>\n",
       "      <td>6</td>\n",
       "    </tr>\n",
       "    <tr>\n",
       "      <th>2</th>\n",
       "      <td>Solar Sky 2.07 kW Grid Tied Solar System with ...</td>\n",
       "      <td>1892025</td>\n",
       "      <td>2</td>\n",
       "      <td>310.5</td>\n",
       "      <td>6 Astronergy Solar CHSM6612P/HV-345 Silver Pol...</td>\n",
       "      <td>1 SMA Sunny Boy 3.8-US Inverter</td>\n",
       "      <td>3807.00</td>\n",
       "      <td>astronergy-solar</td>\n",
       "      <td>sma</td>\n",
       "      <td>6</td>\n",
       "    </tr>\n",
       "    <tr>\n",
       "      <th>3</th>\n",
       "      <td>SMA 2.4 kW Grid Tied Solar System with SMA Inv...</td>\n",
       "      <td>1892399</td>\n",
       "      <td>2</td>\n",
       "      <td>360.0</td>\n",
       "      <td>8 Heliene 300 Black Mono Panels</td>\n",
       "      <td>1 SMA Sunny Boy 3.8-US Inverter</td>\n",
       "      <td>4273.00</td>\n",
       "      <td>heliene</td>\n",
       "      <td>sma</td>\n",
       "      <td>8</td>\n",
       "    </tr>\n",
       "    <tr>\n",
       "      <th>4</th>\n",
       "      <td>SMA 2.13 kW Grid Tied Solar System with SMA In...</td>\n",
       "      <td>1892123</td>\n",
       "      <td>2</td>\n",
       "      <td>319.5</td>\n",
       "      <td>6 REC 355 Black Mono Panels</td>\n",
       "      <td>1 SMA Sunny Boy 3.8-US Inverter</td>\n",
       "      <td>4449.00</td>\n",
       "      <td>rec</td>\n",
       "      <td>sma</td>\n",
       "      <td>6</td>\n",
       "    </tr>\n",
       "  </tbody>\n",
       "</table>\n",
       "</div>"
      ],
      "text/plain": [
       "                                              System      SKU  Array Size  \\\n",
       "0  1.8 kW Grid Tied Solar System with Enphase IQ7...  1895201           1   \n",
       "1  2.07 kW Grid Tied Solar System with Enphase IQ...  1895203           2   \n",
       "2  Solar Sky 2.07 kW Grid Tied Solar System with ...  1892025           2   \n",
       "3  SMA 2.4 kW Grid Tied Solar System with SMA Inv...  1892399           2   \n",
       "4  SMA 2.13 kW Grid Tied Solar System with SMA In...  1892123           2   \n",
       "\n",
       "   Monthly Output                                            Modules  \\\n",
       "0           270.0                    6 Heliene 300 Black Mono Panels   \n",
       "1           310.5  6 Astronergy Solar CHSM6612P/HV-345 Silver Pol...   \n",
       "2           310.5  6 Astronergy Solar CHSM6612P/HV-345 Silver Pol...   \n",
       "3           360.0                    8 Heliene 300 Black Mono Panels   \n",
       "4           319.5                        6 REC 355 Black Mono Panels   \n",
       "\n",
       "                          Inverter    Price           MOD OEM  INV OEM  \\\n",
       "0   6 Enphase IQ7+ Micro Inverters  3645.95           heliene  enphase   \n",
       "1   6 Enphase IQ7+ Micro Inverters  3664.00  astronergy-solar  enphase   \n",
       "2  1 SMA Sunny Boy 3.8-US Inverter  3807.00  astronergy-solar      sma   \n",
       "3  1 SMA Sunny Boy 3.8-US Inverter  4273.00           heliene      sma   \n",
       "4  1 SMA Sunny Boy 3.8-US Inverter  4449.00               rec      sma   \n",
       "\n",
       "   Module Qty  \n",
       "0           6  \n",
       "1           6  \n",
       "2           6  \n",
       "3           8  \n",
       "4           6  "
      ]
     },
     "execution_count": 9,
     "metadata": {},
     "output_type": "execute_result"
    }
   ],
   "source": [
    "df.head()"
   ]
  },
  {
   "cell_type": "code",
   "execution_count": 20,
   "metadata": {
    "ExecuteTime": {
     "end_time": "2020-04-13T22:23:46.450183Z",
     "start_time": "2020-04-13T22:23:46.446411Z"
    }
   },
   "outputs": [],
   "source": [
    "ab = sm.tools.eval_measures.meanabs(df['Monthly Output'],df['Price'])"
   ]
  },
  {
   "cell_type": "code",
   "execution_count": 21,
   "metadata": {
    "ExecuteTime": {
     "end_time": "2020-04-13T22:23:52.661611Z",
     "start_time": "2020-04-13T22:23:52.646641Z"
    }
   },
   "outputs": [
    {
     "data": {
      "text/plain": [
       "15077.504583333333"
      ]
     },
     "execution_count": 21,
     "metadata": {},
     "output_type": "execute_result"
    }
   ],
   "source": [
    "ab"
   ]
  },
  {
   "cell_type": "code",
   "execution_count": 27,
   "metadata": {
    "ExecuteTime": {
     "end_time": "2020-04-14T22:21:00.591734Z",
     "start_time": "2020-04-14T22:21:00.571338Z"
    }
   },
   "outputs": [
    {
     "data": {
      "text/html": [
       "<div>\n",
       "<style scoped>\n",
       "    .dataframe tbody tr th:only-of-type {\n",
       "        vertical-align: middle;\n",
       "    }\n",
       "\n",
       "    .dataframe tbody tr th {\n",
       "        vertical-align: top;\n",
       "    }\n",
       "\n",
       "    .dataframe thead th {\n",
       "        text-align: right;\n",
       "    }\n",
       "</style>\n",
       "<table border=\"1\" class=\"dataframe\">\n",
       "  <thead>\n",
       "    <tr style=\"text-align: right;\">\n",
       "      <th></th>\n",
       "      <th>System</th>\n",
       "      <th>SKU</th>\n",
       "      <th>Array Size</th>\n",
       "      <th>Monthly Output</th>\n",
       "      <th>Modules</th>\n",
       "      <th>Inverter</th>\n",
       "      <th>Price</th>\n",
       "      <th>MOD OEM</th>\n",
       "      <th>INV OEM</th>\n",
       "      <th>Module Qty</th>\n",
       "    </tr>\n",
       "  </thead>\n",
       "  <tbody>\n",
       "    <tr>\n",
       "      <th>0</th>\n",
       "      <td>1.8 kW Grid Tied Solar System with Enphase IQ7...</td>\n",
       "      <td>1895201</td>\n",
       "      <td>1</td>\n",
       "      <td>270.0</td>\n",
       "      <td>6 Heliene 300 Black Mono Panels</td>\n",
       "      <td>6 Enphase IQ7+ Micro Inverters</td>\n",
       "      <td>3645.95</td>\n",
       "      <td>heliene</td>\n",
       "      <td>enphase</td>\n",
       "      <td>6</td>\n",
       "    </tr>\n",
       "    <tr>\n",
       "      <th>1</th>\n",
       "      <td>2.07 kW Grid Tied Solar System with Enphase IQ...</td>\n",
       "      <td>1895203</td>\n",
       "      <td>2</td>\n",
       "      <td>310.5</td>\n",
       "      <td>6 Astronergy Solar CHSM6612P/HV-345 Silver Pol...</td>\n",
       "      <td>6 Enphase IQ7+ Micro Inverters</td>\n",
       "      <td>3664.00</td>\n",
       "      <td>astronergy-solar</td>\n",
       "      <td>enphase</td>\n",
       "      <td>6</td>\n",
       "    </tr>\n",
       "    <tr>\n",
       "      <th>2</th>\n",
       "      <td>Solar Sky 2.07 kW Grid Tied Solar System with ...</td>\n",
       "      <td>1892025</td>\n",
       "      <td>2</td>\n",
       "      <td>310.5</td>\n",
       "      <td>6 Astronergy Solar CHSM6612P/HV-345 Silver Pol...</td>\n",
       "      <td>1 SMA Sunny Boy 3.8-US Inverter</td>\n",
       "      <td>3807.00</td>\n",
       "      <td>astronergy-solar</td>\n",
       "      <td>sma</td>\n",
       "      <td>6</td>\n",
       "    </tr>\n",
       "    <tr>\n",
       "      <th>3</th>\n",
       "      <td>SMA 2.4 kW Grid Tied Solar System with SMA Inv...</td>\n",
       "      <td>1892399</td>\n",
       "      <td>2</td>\n",
       "      <td>360.0</td>\n",
       "      <td>8 Heliene 300 Black Mono Panels</td>\n",
       "      <td>1 SMA Sunny Boy 3.8-US Inverter</td>\n",
       "      <td>4273.00</td>\n",
       "      <td>heliene</td>\n",
       "      <td>sma</td>\n",
       "      <td>8</td>\n",
       "    </tr>\n",
       "    <tr>\n",
       "      <th>4</th>\n",
       "      <td>SMA 2.13 kW Grid Tied Solar System with SMA In...</td>\n",
       "      <td>1892123</td>\n",
       "      <td>2</td>\n",
       "      <td>319.5</td>\n",
       "      <td>6 REC 355 Black Mono Panels</td>\n",
       "      <td>1 SMA Sunny Boy 3.8-US Inverter</td>\n",
       "      <td>4449.00</td>\n",
       "      <td>rec</td>\n",
       "      <td>sma</td>\n",
       "      <td>6</td>\n",
       "    </tr>\n",
       "  </tbody>\n",
       "</table>\n",
       "</div>"
      ],
      "text/plain": [
       "                                              System      SKU  Array Size  \\\n",
       "0  1.8 kW Grid Tied Solar System with Enphase IQ7...  1895201           1   \n",
       "1  2.07 kW Grid Tied Solar System with Enphase IQ...  1895203           2   \n",
       "2  Solar Sky 2.07 kW Grid Tied Solar System with ...  1892025           2   \n",
       "3  SMA 2.4 kW Grid Tied Solar System with SMA Inv...  1892399           2   \n",
       "4  SMA 2.13 kW Grid Tied Solar System with SMA In...  1892123           2   \n",
       "\n",
       "   Monthly Output                                            Modules  \\\n",
       "0           270.0                    6 Heliene 300 Black Mono Panels   \n",
       "1           310.5  6 Astronergy Solar CHSM6612P/HV-345 Silver Pol...   \n",
       "2           310.5  6 Astronergy Solar CHSM6612P/HV-345 Silver Pol...   \n",
       "3           360.0                    8 Heliene 300 Black Mono Panels   \n",
       "4           319.5                        6 REC 355 Black Mono Panels   \n",
       "\n",
       "                          Inverter    Price           MOD OEM  INV OEM  \\\n",
       "0   6 Enphase IQ7+ Micro Inverters  3645.95           heliene  enphase   \n",
       "1   6 Enphase IQ7+ Micro Inverters  3664.00  astronergy-solar  enphase   \n",
       "2  1 SMA Sunny Boy 3.8-US Inverter  3807.00  astronergy-solar      sma   \n",
       "3  1 SMA Sunny Boy 3.8-US Inverter  4273.00           heliene      sma   \n",
       "4  1 SMA Sunny Boy 3.8-US Inverter  4449.00               rec      sma   \n",
       "\n",
       "   Module Qty  \n",
       "0           6  \n",
       "1           6  \n",
       "2           6  \n",
       "3           8  \n",
       "4           6  "
      ]
     },
     "execution_count": 27,
     "metadata": {},
     "output_type": "execute_result"
    }
   ],
   "source": [
    "df.head(5)"
   ]
  },
  {
   "cell_type": "code",
   "execution_count": 30,
   "metadata": {
    "ExecuteTime": {
     "end_time": "2020-04-14T22:23:55.319386Z",
     "start_time": "2020-04-14T22:23:55.312173Z"
    }
   },
   "outputs": [
    {
     "data": {
      "text/plain": [
       "0"
      ]
     },
     "execution_count": 30,
     "metadata": {},
     "output_type": "execute_result"
    }
   ],
   "source": [
    "df['Price'].isnull().sum()"
   ]
  },
  {
   "cell_type": "code",
   "execution_count": 31,
   "metadata": {
    "ExecuteTime": {
     "end_time": "2020-04-14T22:26:07.784675Z",
     "start_time": "2020-04-14T22:26:07.771210Z"
    }
   },
   "outputs": [
    {
     "data": {
      "text/plain": [
       "System            120\n",
       "SKU               120\n",
       "Array Size        120\n",
       "Monthly Output    120\n",
       "Modules           120\n",
       "Inverter          120\n",
       "Price             120\n",
       "MOD OEM           120\n",
       "INV OEM           120\n",
       "Module Qty        120\n",
       "dtype: int64"
      ]
     },
     "execution_count": 31,
     "metadata": {},
     "output_type": "execute_result"
    }
   ],
   "source": [
    "df.count()"
   ]
  },
  {
   "cell_type": "code",
   "execution_count": 36,
   "metadata": {
    "ExecuteTime": {
     "end_time": "2020-04-14T22:35:06.305569Z",
     "start_time": "2020-04-14T22:35:05.634400Z"
    }
   },
   "outputs": [
    {
     "data": {
      "image/png": "[encoded data removed]",
      "text/plain": [
       "<Figure size 360x360 with 1 Axes>"
      ]
     },
     "metadata": {},
     "output_type": "display_data"
    }
   ],
   "source": [
    "sns.set_style('white')\n",
    "lm = sns.lmplot(x='Monthly Output',y='Price',data=df)\n",
    "plt.savefig('lmplot.png')\n",
    "plt.show()"
   ]
  },
  {
   "cell_type": "code",
   "execution_count": 38,
   "metadata": {
    "ExecuteTime": {
     "end_time": "2020-04-14T23:47:22.505350Z",
     "start_time": "2020-04-14T23:47:22.492549Z"
    }
   },
   "outputs": [],
   "source": [
    "from sklearn.linear_model import LinearRegression"
   ]
  },
  {
   "cell_type": "code",
   "execution_count": 40,
   "metadata": {
    "ExecuteTime": {
     "end_time": "2020-04-14T23:49:19.367388Z",
     "start_time": "2020-04-14T23:49:19.363407Z"
    }
   },
   "outputs": [],
   "source": [
    "X1 = df['Monthly Output'].values.reshape(-1,1)\n",
    "y1 = df['Price']"
   ]
  },
  {
   "cell_type": "code",
   "execution_count": 41,
   "metadata": {
    "ExecuteTime": {
     "end_time": "2020-04-14T23:49:48.239033Z",
     "start_time": "2020-04-14T23:49:48.208146Z"
    }
   },
   "outputs": [
    {
     "data": {
      "text/plain": [
       "LinearRegression(copy_X=True, fit_intercept=True, n_jobs=None, normalize=False)"
      ]
     },
     "execution_count": 41,
     "metadata": {},
     "output_type": "execute_result"
    }
   ],
   "source": [
    "linreg_model = LinearRegression()\n",
    "linreg_model.fit(X1, y1)"
   ]
  },
  {
   "cell_type": "code",
   "execution_count": 42,
   "metadata": {
    "ExecuteTime": {
     "end_time": "2020-04-14T23:50:23.647428Z",
     "start_time": "2020-04-14T23:50:23.638668Z"
    }
   },
   "outputs": [
    {
     "data": {
      "text/plain": [
       "array([9.77704799])"
      ]
     },
     "execution_count": 42,
     "metadata": {},
     "output_type": "execute_result"
    }
   ],
   "source": [
    "linreg_model.coef_"
   ]
  },
  {
   "cell_type": "code",
   "execution_count": null,
   "metadata": {},
   "outputs": [],
   "source": []
  }
 ],
 "metadata": {
  "kernelspec": {
   "display_name": "Python 3",
   "language": "python",
   "name": "python3"
  },
  "language_info": {
   "codemirror_mode": {
    "name": "ipython",
    "version": 3
   },
   "file_extension": ".py",
   "mimetype": "text/x-python",
   "name": "python",
   "nbconvert_exporter": "python",
   "pygments_lexer": "ipython3",
   "version": "3.7.7"
  }
 },
 "nbformat": 4,
 "nbformat_minor": 4
}
