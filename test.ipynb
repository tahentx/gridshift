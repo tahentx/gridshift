{
 "cells": [
  {
   "cell_type": "code",
   "execution_count": 9,
   "metadata": {
    "ExecuteTime": {
     "end_time": "2020-04-10T23:29:21.555228Z",
     "start_time": "2020-04-10T23:29:20.052353Z"
    }
   },
   "outputs": [],
   "source": [
    "import pickle\n",
    "import seaborn as sns"
   ]
  },
  {
   "cell_type": "code",
   "execution_count": 10,
   "metadata": {
    "ExecuteTime": {
     "end_time": "2020-04-10T23:29:21.571850Z",
     "start_time": "2020-04-10T23:29:21.557181Z"
    }
   },
   "outputs": [],
   "source": [
    "with open('hardware.pickle', 'rb') as read_file:\n",
    "     df = pickle.load(read_file)"
   ]
  },
  {
   "cell_type": "code",
   "execution_count": 11,
   "metadata": {
    "ExecuteTime": {
     "end_time": "2020-04-10T23:29:21.592844Z",
     "start_time": "2020-04-10T23:29:21.575670Z"
    }
   },
   "outputs": [
    {
     "data": {
      "text/html": [
       "<div>\n",
       "<style scoped>\n",
       "    .dataframe tbody tr th:only-of-type {\n",
       "        vertical-align: middle;\n",
       "    }\n",
       "\n",
       "    .dataframe tbody tr th {\n",
       "        vertical-align: top;\n",
       "    }\n",
       "\n",
       "    .dataframe thead th {\n",
       "        text-align: right;\n",
       "    }\n",
       "</style>\n",
       "<table border=\"1\" class=\"dataframe\">\n",
       "  <thead>\n",
       "    <tr style=\"text-align: right;\">\n",
       "      <th></th>\n",
       "      <th>System</th>\n",
       "      <th>SKU</th>\n",
       "      <th>Array Size</th>\n",
       "      <th>Monthly Output</th>\n",
       "      <th>Modules</th>\n",
       "      <th>Inverter</th>\n",
       "      <th>Price</th>\n",
       "      <th>MOD OEM</th>\n",
       "      <th>INV OEM</th>\n",
       "      <th>Module Qty</th>\n",
       "    </tr>\n",
       "  </thead>\n",
       "  <tbody>\n",
       "    <tr>\n",
       "      <th>0</th>\n",
       "      <td>1.8 kW Grid Tied Solar System with Enphase IQ7...</td>\n",
       "      <td>1895201</td>\n",
       "      <td>1</td>\n",
       "      <td>270.0</td>\n",
       "      <td>6 Heliene 300 Black Mono Panels</td>\n",
       "      <td>6 Enphase IQ7+ Micro Inverters</td>\n",
       "      <td>3645.95</td>\n",
       "      <td>heliene</td>\n",
       "      <td>enphase</td>\n",
       "      <td>6</td>\n",
       "    </tr>\n",
       "    <tr>\n",
       "      <th>1</th>\n",
       "      <td>2.07 kW Grid Tied Solar System with Enphase IQ...</td>\n",
       "      <td>1895203</td>\n",
       "      <td>2</td>\n",
       "      <td>310.5</td>\n",
       "      <td>6 Astronergy Solar CHSM6612P/HV-345 Silver Pol...</td>\n",
       "      <td>6 Enphase IQ7+ Micro Inverters</td>\n",
       "      <td>3664.00</td>\n",
       "      <td>astronergy-solar</td>\n",
       "      <td>enphase</td>\n",
       "      <td>6</td>\n",
       "    </tr>\n",
       "    <tr>\n",
       "      <th>2</th>\n",
       "      <td>Solar Sky 2.07 kW Grid Tied Solar System with ...</td>\n",
       "      <td>1892025</td>\n",
       "      <td>2</td>\n",
       "      <td>310.5</td>\n",
       "      <td>6 Astronergy Solar CHSM6612P/HV-345 Silver Pol...</td>\n",
       "      <td>1 SMA Sunny Boy 3.8-US Inverter</td>\n",
       "      <td>3807.00</td>\n",
       "      <td>astronergy-solar</td>\n",
       "      <td>sma</td>\n",
       "      <td>6</td>\n",
       "    </tr>\n",
       "    <tr>\n",
       "      <th>3</th>\n",
       "      <td>SMA 2.4 kW Grid Tied Solar System with SMA Inv...</td>\n",
       "      <td>1892399</td>\n",
       "      <td>2</td>\n",
       "      <td>360.0</td>\n",
       "      <td>8 Heliene 300 Black Mono Panels</td>\n",
       "      <td>1 SMA Sunny Boy 3.8-US Inverter</td>\n",
       "      <td>4273.00</td>\n",
       "      <td>heliene</td>\n",
       "      <td>sma</td>\n",
       "      <td>8</td>\n",
       "    </tr>\n",
       "    <tr>\n",
       "      <th>4</th>\n",
       "      <td>SMA 2.13 kW Grid Tied Solar System with SMA In...</td>\n",
       "      <td>1892123</td>\n",
       "      <td>2</td>\n",
       "      <td>319.5</td>\n",
       "      <td>6 REC 355 Black Mono Panels</td>\n",
       "      <td>1 SMA Sunny Boy 3.8-US Inverter</td>\n",
       "      <td>4449.00</td>\n",
       "      <td>rec</td>\n",
       "      <td>sma</td>\n",
       "      <td>6</td>\n",
       "    </tr>\n",
       "  </tbody>\n",
       "</table>\n",
       "</div>"
      ],
      "text/plain": [
       "                                              System      SKU  Array Size  \\\n",
       "0  1.8 kW Grid Tied Solar System with Enphase IQ7...  1895201           1   \n",
       "1  2.07 kW Grid Tied Solar System with Enphase IQ...  1895203           2   \n",
       "2  Solar Sky 2.07 kW Grid Tied Solar System with ...  1892025           2   \n",
       "3  SMA 2.4 kW Grid Tied Solar System with SMA Inv...  1892399           2   \n",
       "4  SMA 2.13 kW Grid Tied Solar System with SMA In...  1892123           2   \n",
       "\n",
       "   Monthly Output                                            Modules  \\\n",
       "0           270.0                    6 Heliene 300 Black Mono Panels   \n",
       "1           310.5  6 Astronergy Solar CHSM6612P/HV-345 Silver Pol...   \n",
       "2           310.5  6 Astronergy Solar CHSM6612P/HV-345 Silver Pol...   \n",
       "3           360.0                    8 Heliene 300 Black Mono Panels   \n",
       "4           319.5                        6 REC 355 Black Mono Panels   \n",
       "\n",
       "                          Inverter    Price           MOD OEM  INV OEM  \\\n",
       "0   6 Enphase IQ7+ Micro Inverters  3645.95           heliene  enphase   \n",
       "1   6 Enphase IQ7+ Micro Inverters  3664.00  astronergy-solar  enphase   \n",
       "2  1 SMA Sunny Boy 3.8-US Inverter  3807.00  astronergy-solar      sma   \n",
       "3  1 SMA Sunny Boy 3.8-US Inverter  4273.00           heliene      sma   \n",
       "4  1 SMA Sunny Boy 3.8-US Inverter  4449.00               rec      sma   \n",
       "\n",
       "   Module Qty  \n",
       "0           6  \n",
       "1           6  \n",
       "2           6  \n",
       "3           8  \n",
       "4           6  "
      ]
     },
     "execution_count": 11,
     "metadata": {},
     "output_type": "execute_result"
    }
   ],
   "source": [
    "df.head()"
   ]
  },
  {
   "cell_type": "code",
   "execution_count": 12,
   "metadata": {
    "ExecuteTime": {
     "end_time": "2020-04-10T23:29:23.014316Z",
     "start_time": "2020-04-10T23:29:23.011083Z"
    }
   },
   "outputs": [],
   "source": [
    "x = df['Monthly Output']\n",
    "y = df['Price']"
   ]
  },
  {
   "cell_type": "code",
   "execution_count": 13,
   "metadata": {
    "ExecuteTime": {
     "end_time": "2020-04-10T23:29:24.494454Z",
     "start_time": "2020-04-10T23:29:24.119774Z"
    }
   },
   "outputs": [
    {
     "data": {
      "image/png": "[encoded data removed]",
      "text/plain": [
       "<Figure size 432x288 with 1 Axes>"
      ]
     },
     "metadata": {
      "needs_background": "light"
     },
     "output_type": "display_data"
    }
   ],
   "source": [
    "ax = sns.regplot(x=x, y=y, ci=68, truncate=False)"
   ]
  },
  {
   "cell_type": "code",
   "execution_count": null,
   "metadata": {},
   "outputs": [],
   "source": []
  }
 ],
 "metadata": {
  "kernelspec": {
   "display_name": "Python 3",
   "language": "python",
   "name": "python3"
  },
  "language_info": {
   "codemirror_mode": {
    "name": "ipython",
    "version": 3
   },
   "file_extension": ".py",
   "mimetype": "text/x-python",
   "name": "python",
   "nbconvert_exporter": "python",
   "pygments_lexer": "ipython3",
   "version": "3.7.7"
  }
 },
 "nbformat": 4,
 "nbformat_minor": 4
}
