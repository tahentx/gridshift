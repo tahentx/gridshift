{
 "cells": [
  {
   "cell_type": "code",
   "execution_count": 1,
   "metadata": {
    "ExecuteTime": {
     "end_time": "2020-05-12T13:59:48.850094Z",
     "start_time": "2020-05-12T13:59:47.607383Z"
    }
   },
   "outputs": [],
   "source": [
    "import pandas as pd"
   ]
  },
  {
   "cell_type": "code",
   "execution_count": 7,
   "metadata": {
    "ExecuteTime": {
     "end_time": "2020-05-12T14:02:34.344957Z",
     "start_time": "2020-05-12T14:02:34.338270Z"
    }
   },
   "outputs": [],
   "source": [
    "df = pd.DataFrame({'Blood Type' : ['O Pos', 'O', 'O Neg', 'O Pos'],\n",
    "                   'Name' : ['Rudy', 'Joe', 'Geoff', 'Nick'],\n",
    "                  'Color' : ['Red', 'Green', 'Navy Blue', 'Magenta'],\n",
    "                  'Alma Mater' : ['Virginia', 'USC', 'Georgetown', 'Emory'],\n",
    "                  'Alpha' : [3,5,2,6],\n",
    "                  'Bravo' : [23,6,9,1]})"
   ]
  },
  {
   "cell_type": "code",
   "execution_count": 8,
   "metadata": {
    "ExecuteTime": {
     "end_time": "2020-05-12T14:02:35.204768Z",
     "start_time": "2020-05-12T14:02:35.194238Z"
    }
   },
   "outputs": [
    {
     "data": {
      "text/html": [
       "<div>\n",
       "<style scoped>\n",
       "    .dataframe tbody tr th:only-of-type {\n",
       "        vertical-align: middle;\n",
       "    }\n",
       "\n",
       "    .dataframe tbody tr th {\n",
       "        vertical-align: top;\n",
       "    }\n",
       "\n",
       "    .dataframe thead th {\n",
       "        text-align: right;\n",
       "    }\n",
       "</style>\n",
       "<table border=\"1\" class=\"dataframe\">\n",
       "  <thead>\n",
       "    <tr style=\"text-align: right;\">\n",
       "      <th></th>\n",
       "      <th>Blood Type</th>\n",
       "      <th>Name</th>\n",
       "      <th>Color</th>\n",
       "      <th>Alma Mater</th>\n",
       "      <th>Alpha</th>\n",
       "      <th>Bravo</th>\n",
       "    </tr>\n",
       "  </thead>\n",
       "  <tbody>\n",
       "    <tr>\n",
       "      <th>0</th>\n",
       "      <td>O Pos</td>\n",
       "      <td>Rudy</td>\n",
       "      <td>Red</td>\n",
       "      <td>Virginia</td>\n",
       "      <td>3</td>\n",
       "      <td>23</td>\n",
       "    </tr>\n",
       "    <tr>\n",
       "      <th>1</th>\n",
       "      <td>O</td>\n",
       "      <td>Joe</td>\n",
       "      <td>Green</td>\n",
       "      <td>USC</td>\n",
       "      <td>5</td>\n",
       "      <td>6</td>\n",
       "    </tr>\n",
       "    <tr>\n",
       "      <th>2</th>\n",
       "      <td>O Neg</td>\n",
       "      <td>Geoff</td>\n",
       "      <td>Navy Blue</td>\n",
       "      <td>Georgetown</td>\n",
       "      <td>2</td>\n",
       "      <td>9</td>\n",
       "    </tr>\n",
       "    <tr>\n",
       "      <th>3</th>\n",
       "      <td>O Pos</td>\n",
       "      <td>Nick</td>\n",
       "      <td>Magenta</td>\n",
       "      <td>Emory</td>\n",
       "      <td>6</td>\n",
       "      <td>1</td>\n",
       "    </tr>\n",
       "  </tbody>\n",
       "</table>\n",
       "</div>"
      ],
      "text/plain": [
       "  Blood Type   Name      Color  Alma Mater  Alpha  Bravo\n",
       "0      O Pos   Rudy        Red    Virginia      3     23\n",
       "1          O    Joe      Green         USC      5      6\n",
       "2      O Neg  Geoff  Navy Blue  Georgetown      2      9\n",
       "3      O Pos   Nick    Magenta       Emory      6      1"
      ]
     },
     "execution_count": 8,
     "metadata": {},
     "output_type": "execute_result"
    }
   ],
   "source": [
    "df['Color'].astype('category')\n"
   ]
  },
  {
   "cell_type": "code",
   "execution_count": 9,
   "metadata": {
    "ExecuteTime": {
     "end_time": "2020-05-12T14:02:37.165880Z",
     "start_time": "2020-05-12T14:02:37.158313Z"
    }
   },
   "outputs": [
    {
     "data": {
      "text/plain": [
       "Blood Type    object\n",
       "Name          object\n",
       "Color         object\n",
       "Alma Mater    object\n",
       "Alpha          int64\n",
       "Bravo          int64\n",
       "dtype: object"
      ]
     },
     "execution_count": 9,
     "metadata": {},
     "output_type": "execute_result"
    }
   ],
   "source": []
  },
  {
   "cell_type": "code",
   "execution_count": 6,
   "metadata": {
    "ExecuteTime": {
     "end_time": "2020-05-12T14:01:13.253280Z",
     "start_time": "2020-05-12T14:01:13.233276Z"
    }
   },
   "outputs": [
    {
     "data": {
      "text/plain": [
       "0          Red\n",
       "1        Green\n",
       "2    Navy Blue\n",
       "3      Magenta\n",
       "Name: Color, dtype: category\n",
       "Categories (4, object): [Green, Magenta, Navy Blue, Red]"
      ]
     },
     "execution_count": 6,
     "metadata": {},
     "output_type": "execute_result"
    }
   ],
   "source": [
    "df['Color'].astype('category')"
   ]
  },
  {
   "cell_type": "code",
   "execution_count": null,
   "metadata": {},
   "outputs": [],
   "source": []
  }
 ],
 "metadata": {
  "kernelspec": {
   "display_name": "Python 3",
   "language": "python",
   "name": "python3"
  },
  "language_info": {
   "codemirror_mode": {
    "name": "ipython",
    "version": 3
   },
   "file_extension": ".py",
   "mimetype": "text/x-python",
   "name": "python",
   "nbconvert_exporter": "python",
   "pygments_lexer": "ipython3",
   "version": "3.7.7"
  }
 },
 "nbformat": 4,
 "nbformat_minor": 4
}
